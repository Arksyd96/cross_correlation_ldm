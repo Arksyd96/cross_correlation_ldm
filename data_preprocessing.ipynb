{
 "cells": [
  {
   "cell_type": "code",
   "execution_count": 28,
   "metadata": {},
   "outputs": [
    {
     "name": "stderr",
     "output_type": "stream",
     "text": [
      "100%|██████████| 500/500 [04:57<00:00,  1.68it/s]\n"
     ]
    },
    {
     "name": "stdout",
     "output_type": "stream",
     "text": [
      "done!\n"
     ]
    }
   ],
   "source": [
    "import numpy as np\n",
    "from nibabel import load\n",
    "from nibabel.processing import resample_to_output\n",
    "import os\n",
    "from tqdm import tqdm\n",
    "\n",
    "ROOT_DIR = '../common_data/RSNA_ASNR_MICCAI_BraTS2021_TrainingData_16July2021'\n",
    "MODEL_SHAPE = (240, 240, 155) # base brats model shape\n",
    "OUTPUT_SHAPE = (256, 256, 155)\n",
    "\n",
    "N_SAMPLES = 500\n",
    "placeholder = np.zeros(shape=(N_SAMPLES, 3, *OUTPUT_SHAPE))\n",
    "for idx, instance in enumerate(tqdm(os.listdir(ROOT_DIR)[: N_SAMPLES], position=0, leave=True)):\n",
    "    # loading models\n",
    "    mask = load(os.path.join(ROOT_DIR, instance, instance + '_seg.nii.gz'))\n",
    "    flair = load(os.path.join(ROOT_DIR, instance, instance + '_flair.nii.gz'))\n",
    "    t1ce = load(os.path.join(ROOT_DIR, instance, instance + '_t1ce.nii.gz'))\n",
    "\n",
    "    # Compute the scaling factors (output will not be exactly the same as defined in OUTPUT_SHAPE)\n",
    "    scale_factor = (MODEL_SHAPE[0] / OUTPUT_SHAPE[0],\n",
    "                    MODEL_SHAPE[1] / OUTPUT_SHAPE[1],\n",
    "                    MODEL_SHAPE[2] / OUTPUT_SHAPE[2])\n",
    "\n",
    "    # Resample the image using trilinear interpolation\n",
    "    resampled_mask = resample_to_output(mask, voxel_sizes=scale_factor, order=1).get_fdata()\n",
    "    resampled_flair = resample_to_output(flair, voxel_sizes=scale_factor, order=1).get_fdata()\n",
    "    resampled_t1ce = resample_to_output(t1ce, voxel_sizes=scale_factor, order=1).get_fdata()\n",
    "\n",
    "    # Drop the last row, column, and slice to get the desired output size\n",
    "    resampled_mask = resampled_mask[:OUTPUT_SHAPE[0], :OUTPUT_SHAPE[1], :OUTPUT_SHAPE[2]]\n",
    "    resampled_flair = resampled_flair[:OUTPUT_SHAPE[0], :OUTPUT_SHAPE[1], :OUTPUT_SHAPE[2]]\n",
    "    resampled_t1ce = resampled_t1ce[:OUTPUT_SHAPE[0], :OUTPUT_SHAPE[1], :OUTPUT_SHAPE[2]]\n",
    "\n",
    "    # binarizing the mask (for simplicity), you can comment out this to keep all labels\n",
    "    resampled_mask = (resampled_mask > 0).astype(np.float32)\n",
    "\n",
    "    # saving models\n",
    "    placeholder[idx] = np.stack([resampled_flair, resampled_t1ce, resampled_mask], axis=0)\n",
    "\n",
    "# saving the dataset as a npy file\n",
    "np.save('./data/brats_3d_dataset.npy', placeholder)\n",
    "\n",
    "print('done!')\n"
   ]
  },
  {
   "cell_type": "code",
   "execution_count": 15,
   "metadata": {},
   "outputs": [],
   "source": [
    "import torch\n",
    "import matplotlib.pyplot as plt\n",
    "\n",
    "x = torch.ones(8, 2, 128, 128)\n",
    "y = torch.zeros(8, 2, 128, 128)\n",
    "\n",
    "x = torch.vstack([img for img in x[:, 0, ...]])\n",
    "# x = x.reshape(128, -1)\n",
    "# y = y.reshape(128, -1)\n",
    "# img = torch.cat([x, y], dim=0)\n",
    "\n",
    "# plt.imshow(img, cmap='gray')\n",
    "\n"
   ]
  },
  {
   "cell_type": "code",
   "execution_count": 2,
   "metadata": {},
   "outputs": [
    {
     "name": "stdout",
     "output_type": "stream",
     "text": [
      "loaded pretrained LPIPS loss from taming/modules/autoencoder/lpips/vgg.pth\n"
     ]
    }
   ],
   "source": [
    "import sys\n",
    "from models.gaussian_autoencoder import GaussianAutoencoder\n",
    "from omegaconf import OmegaConf\n",
    "\n",
    "CONFIG_PATH = './config/config.yaml'\n",
    "if not os.path.exists(CONFIG_PATH):\n",
    "    raise FileNotFoundError('Config file not found')\n",
    "\n",
    "config = OmegaConf.load(CONFIG_PATH)\n",
    "\n",
    "# autoencoder\n",
    "autoencoder = getattr(sys.modules[__name__], config.models.autoencoder.target)\n",
    "\n",
    "# load autoencoder weights/hyperparameters\n",
    "autoencoder = autoencoder.load_from_checkpoint('./checkpoints/GaussianAutoencoder-epoch=169.ckpt')\n",
    "autoencoder = autoencoder.to('cuda')"
   ]
  },
  {
   "cell_type": "code",
   "execution_count": 3,
   "metadata": {},
   "outputs": [
    {
     "name": "stdout",
     "output_type": "stream",
     "text": [
      "Loading dataset from npy file...\n"
     ]
    },
    {
     "name": "stderr",
     "output_type": "stream",
     "text": [
      "100%|██████████| 500/500 [01:48<00:00,  4.62it/s]\n"
     ]
    }
   ],
   "source": [
    "from models.data_module import DataModule\n",
    "\n",
    "# data module\n",
    "data_module = DataModule(\n",
    "    **config.data,\n",
    "    autoencoder=autoencoder,\n",
    "    use_latents=True, \n",
    "    batch_size=32, \n",
    "    shuffle=True, \n",
    "    num_workers=8\n",
    ")\n",
    "\n",
    "data_module.prepare_data()\n",
    "data_module.setup()\n",
    "tr = data_module.train_dataloader()"
   ]
  },
  {
   "cell_type": "code",
   "execution_count": 7,
   "metadata": {},
   "outputs": [],
   "source": [
    "z = next(iter(tr))[0]"
   ]
  },
  {
   "cell_type": "code",
   "execution_count": 12,
   "metadata": {},
   "outputs": [
    {
     "data": {
      "text/plain": [
       "torch.Size([32, 8, 128, 128])"
      ]
     },
     "execution_count": 12,
     "metadata": {},
     "output_type": "execute_result"
    }
   ],
   "source": [
    "z.shape"
   ]
  },
  {
   "cell_type": "code",
   "execution_count": 14,
   "metadata": {},
   "outputs": [],
   "source": [
    "z = z.reshape(32, 64, 2, 32, 32)"
   ]
  },
  {
   "cell_type": "code",
   "execution_count": 18,
   "metadata": {},
   "outputs": [
    {
     "data": {
      "text/plain": [
       "torch.Size([32, 64, 2, 32, 32])"
      ]
     },
     "execution_count": 18,
     "metadata": {},
     "output_type": "execute_result"
    }
   ],
   "source": [
    "z.shape"
   ]
  },
  {
   "cell_type": "code",
   "execution_count": 20,
   "metadata": {},
   "outputs": [],
   "source": [
    "ex0 = z[0].to('cuda')\n",
    "pemb = autoencoder.encode_position(torch.arange(0, 64, device='cuda', dtype=torch.long))\n",
    "x_hat = torch.tanh(autoencoder.decode(ex0, pemb))"
   ]
  },
  {
   "cell_type": "code",
   "execution_count": 21,
   "metadata": {},
   "outputs": [
    {
     "data": {
      "text/plain": [
       "torch.Size([64, 2, 128, 128])"
      ]
     },
     "execution_count": 21,
     "metadata": {},
     "output_type": "execute_result"
    }
   ],
   "source": [
    "x_hat.shape"
   ]
  },
  {
   "cell_type": "code",
   "execution_count": null,
   "metadata": {},
   "outputs": [],
   "source": [
    "b, pos = b.to('cuda', torch.float32), pos.to('cuda', torch.long)\n",
    "x_hat, z, posterior = autoencoder(b, pos)"
   ]
  },
  {
   "cell_type": "code",
   "execution_count": 26,
   "metadata": {},
   "outputs": [
    {
     "data": {
      "text/plain": [
       "array([ 0,  1,  2,  3,  4,  5,  6,  7,  8,  9, 10, 11, 12, 13, 14, 15, 16,\n",
       "       17, 18, 19, 20, 21, 22, 23, 24, 25, 26, 27, 28, 29, 30, 31, 32, 33,\n",
       "       34, 35, 36, 37, 38, 39, 40, 41, 42, 43, 44, 45, 46, 47, 48, 49, 50,\n",
       "       51, 52, 53, 54, 55, 56, 57, 58, 59, 60, 61, 62, 63])"
      ]
     },
     "execution_count": 26,
     "metadata": {},
     "output_type": "execute_result"
    }
   ],
   "source": [
    "import numpy as np\n",
    "n = np.arange(64)\n",
    "n"
   ]
  },
  {
   "cell_type": "code",
   "execution_count": 30,
   "metadata": {},
   "outputs": [],
   "source": [
    "x = torch.randn(500, 8, 128, 128)"
   ]
  },
  {
   "cell_type": "code",
   "execution_count": 41,
   "metadata": {},
   "outputs": [
    {
     "data": {
      "text/plain": [
       "tensor(3.0449e-05)"
      ]
     },
     "execution_count": 41,
     "metadata": {},
     "output_type": "execute_result"
    }
   ],
   "source": [
    "x.mean()"
   ]
  },
  {
   "cell_type": "code",
   "execution_count": 42,
   "metadata": {},
   "outputs": [
    {
     "data": {
      "text/plain": [
       "65536000"
      ]
     },
     "execution_count": 42,
     "metadata": {},
     "output_type": "execute_result"
    }
   ],
   "source": [
    "x.numel()"
   ]
  },
  {
   "cell_type": "code",
   "execution_count": 7,
   "metadata": {},
   "outputs": [
    {
     "name": "stdout",
     "output_type": "stream",
     "text": [
      "Using autoencoder:  str\n"
     ]
    }
   ],
   "source": [
    "from models.vector_quantized_autoencoder import VQAutoencoder\n",
    "print('Using autoencoder: ', type('fsd').__name__)"
   ]
  },
  {
   "cell_type": "code",
   "execution_count": null,
   "metadata": {},
   "outputs": [
    {
     "data": {
      "text/plain": [
       "<matplotlib.image.AxesImage at 0x7f739cd5f760>"
      ]
     },
     "execution_count": 8,
     "metadata": {},
     "output_type": "execute_result"
    },
    {
     "data": {
      "image/png": "[encoded data removed]",
      "text/plain": [
       "<Figure size 432x288 with 1 Axes>"
      ]
     },
     "metadata": {
      "needs_background": "light"
     },
     "output_type": "display_data"
    }
   ],
   "source": [
    "plt.imshow(x_hat[0, 0, ...].detach().cpu().numpy(), cmap='gray')"
   ]
  },
  {
   "cell_type": "code",
   "execution_count": null,
   "metadata": {},
   "outputs": [],
   "source": []
  }
 ],
 "metadata": {
  "kernelspec": {
   "display_name": "work",
   "language": "python",
   "name": "python3"
  },
  "language_info": {
   "codemirror_mode": {
    "name": "ipython",
    "version": 3
   },
   "file_extension": ".py",
   "mimetype": "text/x-python",
   "name": "python",
   "nbconvert_exporter": "python",
   "pygments_lexer": "ipython3",
   "version": "3.8.13"
  },
  "orig_nbformat": 4,
  "vscode": {
   "interpreter": {
    "hash": "fae847446f25d1d5cccaa632528b81cb53ce4d6408a7df79225531d1adf33a86"
   }
  }
 },
 "nbformat": 4,
 "nbformat_minor": 2
}
