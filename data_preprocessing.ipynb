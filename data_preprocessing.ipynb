{
 "cells": [
  {
   "cell_type": "code",
   "execution_count": 28,
   "metadata": {},
   "outputs": [
    {
     "name": "stderr",
     "output_type": "stream",
     "text": [
      "100%|██████████| 500/500 [04:57<00:00,  1.68it/s]\n"
     ]
    },
    {
     "name": "stdout",
     "output_type": "stream",
     "text": [
      "done!\n"
     ]
    }
   ],
   "source": [
    "import numpy as np\n",
    "from nibabel import load\n",
    "from nibabel.processing import resample_to_output\n",
    "import os\n",
    "from tqdm import tqdm\n",
    "\n",
    "ROOT_DIR = '../common_data/RSNA_ASNR_MICCAI_BraTS2021_TrainingData_16July2021'\n",
    "MODEL_SHAPE = (240, 240, 155) # base brats model shape\n",
    "OUTPUT_SHAPE = (256, 256, 155)\n",
    "\n",
    "N_SAMPLES = 500\n",
    "placeholder = np.zeros(shape=(N_SAMPLES, 3, *OUTPUT_SHAPE))\n",
    "for idx, instance in enumerate(tqdm(os.listdir(ROOT_DIR)[: N_SAMPLES], position=0, leave=True)):\n",
    "    # loading models\n",
    "    mask = load(os.path.join(ROOT_DIR, instance, instance + '_seg.nii.gz'))\n",
    "    flair = load(os.path.join(ROOT_DIR, instance, instance + '_flair.nii.gz'))\n",
    "    t1ce = load(os.path.join(ROOT_DIR, instance, instance + '_t1ce.nii.gz'))\n",
    "\n",
    "    # Compute the scaling factors (output will not be exactly the same as defined in OUTPUT_SHAPE)\n",
    "    scale_factor = (MODEL_SHAPE[0] / OUTPUT_SHAPE[0],\n",
    "                    MODEL_SHAPE[1] / OUTPUT_SHAPE[1],\n",
    "                    MODEL_SHAPE[2] / OUTPUT_SHAPE[2])\n",
    "\n",
    "    # Resample the image using trilinear interpolation\n",
    "    resampled_mask = resample_to_output(mask, voxel_sizes=scale_factor, order=1).get_fdata()\n",
    "    resampled_flair = resample_to_output(flair, voxel_sizes=scale_factor, order=1).get_fdata()\n",
    "    resampled_t1ce = resample_to_output(t1ce, voxel_sizes=scale_factor, order=1).get_fdata()\n",
    "\n",
    "    # Drop the last row, column, and slice to get the desired output size\n",
    "    resampled_mask = resampled_mask[:OUTPUT_SHAPE[0], :OUTPUT_SHAPE[1], :OUTPUT_SHAPE[2]]\n",
    "    resampled_flair = resampled_flair[:OUTPUT_SHAPE[0], :OUTPUT_SHAPE[1], :OUTPUT_SHAPE[2]]\n",
    "    resampled_t1ce = resampled_t1ce[:OUTPUT_SHAPE[0], :OUTPUT_SHAPE[1], :OUTPUT_SHAPE[2]]\n",
    "\n",
    "    # binarizing the mask (for simplicity), you can comment out this to keep all labels\n",
    "    resampled_mask = (resampled_mask > 0).astype(np.float32)\n",
    "\n",
    "    # saving models\n",
    "    placeholder[idx] = np.stack([resampled_flair, resampled_t1ce, resampled_mask], axis=0)\n",
    "\n",
    "# saving the dataset as a npy file\n",
    "np.save('./data/brats_3d_dataset.npy', placeholder)\n",
    "\n",
    "print('done!')\n"
   ]
  },
  {
   "cell_type": "code",
   "execution_count": 15,
   "metadata": {},
   "outputs": [],
   "source": [
    "import torch\n",
    "import matplotlib.pyplot as plt\n",
    "\n",
    "x = torch.ones(8, 2, 128, 128)\n",
    "y = torch.zeros(8, 2, 128, 128)\n",
    "\n",
    "x = torch.vstack([img for img in x[:, 0, ...]])\n",
    "# x = x.reshape(128, -1)\n",
    "# y = y.reshape(128, -1)\n",
    "# img = torch.cat([x, y], dim=0)\n",
    "\n",
    "# plt.imshow(img, cmap='gray')\n",
    "\n"
   ]
  },
  {
   "cell_type": "code",
   "execution_count": null,
   "metadata": {},
   "outputs": [],
   "source": []
  }
 ],
 "metadata": {
  "kernelspec": {
   "display_name": "work",
   "language": "python",
   "name": "python3"
  },
  "language_info": {
   "codemirror_mode": {
    "name": "ipython",
    "version": 3
   },
   "file_extension": ".py",
   "mimetype": "text/x-python",
   "name": "python",
   "nbconvert_exporter": "python",
   "pygments_lexer": "ipython3",
   "version": "3.8.13"
  },
  "orig_nbformat": 4,
  "vscode": {
   "interpreter": {
    "hash": "fae847446f25d1d5cccaa632528b81cb53ce4d6408a7df79225531d1adf33a86"
   }
  }
 },
 "nbformat": 4,
 "nbformat_minor": 2
}
